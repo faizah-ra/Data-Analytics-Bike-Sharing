{
  "cells": [
    {
      "cell_type": "markdown",
      "metadata": {
        "id": "H9wADwK78DCz"
      },
      "source": [
        "# Proyek Analisis Data: [Bike Sharing Dataset]\n",
        "- **Nama:** Faizah Rizki Auliawati\n",
        "- **Email:** frauliawati@gmail.com\n",
        "- **ID Dicoding:** MC0092D5X2547\n"
      ]
    },
    {
      "cell_type": "markdown",
      "metadata": {
        "id": "eE0raob58DC0"
      },
      "source": [
        "## Menentukan Pertanyaan Bisnis"
      ]
    },
    {
      "cell_type": "markdown",
      "metadata": {
        "id": "GmQeQ5YF8DC0"
      },
      "source": [
        "- Kapan waktu dengan jumlah penyewaan sepeda paling tinggi dan paling rendah?\n",
        "- Bagaimana pengaruh musim terhadap jumlah penyewaan sepeda?"
      ]
    },
    {
      "cell_type": "markdown",
      "metadata": {
        "id": "H-z4QGlO8DC1"
      },
      "source": [
        "## Import Semua Packages/Library yang Digunakan"
      ]
    },
    {
      "cell_type": "code",
      "source": [
        "import pandas as pd\n",
        "import matplotlib.pyplot as plt\n",
        "import seaborn as sns"
      ],
      "metadata": {
        "id": "oy4PB8MHvFqK"
      },
      "execution_count": 212,
      "outputs": []
    },
    {
      "cell_type": "code",
      "execution_count": 213,
      "metadata": {
        "id": "FVYwaObI8DC1",
        "colab": {
          "base_uri": "https://localhost:8080/"
        },
        "outputId": "b227dfaa-f7f8-4e10-b638-1343c1fc4811"
      },
      "outputs": [
        {
          "output_type": "stream",
          "name": "stdout",
          "text": [
            "Drive already mounted at /content/drive; to attempt to forcibly remount, call drive.mount(\"/content/drive\", force_remount=True).\n"
          ]
        }
      ],
      "source": [
        "from google.colab import drive\n",
        "drive.mount('/content/drive')"
      ]
    },
    {
      "cell_type": "markdown",
      "metadata": {
        "id": "h_Sh51Xy8DC1"
      },
      "source": [
        "## Data Wrangling"
      ]
    },
    {
      "cell_type": "markdown",
      "metadata": {
        "id": "sXU2GBYu8DC1"
      },
      "source": [
        "### Gathering Data"
      ]
    },
    {
      "cell_type": "code",
      "source": [
        "df = pd.read_csv('/content/drive/MyDrive/Bike Dataset/hour.csv')"
      ],
      "metadata": {
        "id": "3aNgC4gJuy0N"
      },
      "execution_count": 4,
      "outputs": []
    },
    {
      "cell_type": "markdown",
      "source": [
        "Insight :\n",
        "- Dataset yang digunakan merupakan dataset sewa sepeda yang berisi informasi tentang jumlah penyewaan sepeda berdasarkan berbagai faktor seperti cuaca, musim, hari kerja, dan lainnya.\n",
        "Dataset diimpor menggunakan pandas.read_csv()."
      ],
      "metadata": {
        "id": "65mR4rwxbx9j"
      }
    },
    {
      "cell_type": "markdown",
      "metadata": {
        "id": "FHSiqaZp8DC1"
      },
      "source": [
        "### Assessing Data"
      ]
    },
    {
      "cell_type": "markdown",
      "source": [
        "##### Memeriksa Struktur Dataset\n",
        "Menampilkan dimensi dataset, lima baris pertama, serta informasi tipe data untuk memahami struktur dataset.\n"
      ],
      "metadata": {
        "id": "b_5sbeDfbhHf"
      }
    },
    {
      "cell_type": "code",
      "source": [
        "print(df.shape)\n",
        "print(df.head())"
      ],
      "metadata": {
        "colab": {
          "base_uri": "https://localhost:8080/"
        },
        "id": "v4e3p83AFTWb",
        "outputId": "66b6c870-7110-42aa-d5c4-35ddf01fda17"
      },
      "execution_count": 215,
      "outputs": [
        {
          "output_type": "stream",
          "name": "stdout",
          "text": [
            "(17379, 17)\n",
            "   instant      dteday  season  yr  mnth  hr  holiday  weekday  workingday  \\\n",
            "0        1  2011-01-01       1   0     1   0        0        6           0   \n",
            "1        2  2011-01-01       1   0     1   1        0        6           0   \n",
            "2        3  2011-01-01       1   0     1   2        0        6           0   \n",
            "3        4  2011-01-01       1   0     1   3        0        6           0   \n",
            "4        5  2011-01-01       1   0     1   4        0        6           0   \n",
            "\n",
            "   weathersit  temp   atemp   hum  windspeed  casual  registered  cnt  \n",
            "0           1  0.24  0.2879  0.81        0.0       3          13   16  \n",
            "1           1  0.22  0.2727  0.80        0.0       8          32   40  \n",
            "2           1  0.22  0.2727  0.80        0.0       5          27   32  \n",
            "3           1  0.24  0.2879  0.75        0.0       3          10   13  \n",
            "4           1  0.24  0.2879  0.75        0.0       0           1    1  \n"
          ]
        }
      ]
    },
    {
      "cell_type": "markdown",
      "source": [
        "**Insight:**\n",
        "- Dataset cukup besar, cocok untuk analisis tren dan prediksi.\n",
        "- Data memiliki banyak fitur waktu yang bisa digunakan untuk melihat pola penyewaan."
      ],
      "metadata": {
        "id": "g277Fy7aY10v"
      }
    },
    {
      "cell_type": "markdown",
      "source": [
        "####Memeriksa Informasi Dataset\n",
        "\n",
        "Menampilkan informasi tipe data untuk memahami struktur dataset."
      ],
      "metadata": {
        "id": "m9wFc8_1gFmF"
      }
    },
    {
      "cell_type": "code",
      "source": [
        "df.info()"
      ],
      "metadata": {
        "colab": {
          "base_uri": "https://localhost:8080/"
        },
        "id": "be7QGGzkCQTv",
        "outputId": "95ff80d6-5c79-4719-9d48-01300de18549"
      },
      "execution_count": 216,
      "outputs": [
        {
          "output_type": "stream",
          "name": "stdout",
          "text": [
            "<class 'pandas.core.frame.DataFrame'>\n",
            "RangeIndex: 17379 entries, 0 to 17378\n",
            "Data columns (total 17 columns):\n",
            " #   Column      Non-Null Count  Dtype  \n",
            "---  ------      --------------  -----  \n",
            " 0   instant     17379 non-null  int64  \n",
            " 1   dteday      17379 non-null  object \n",
            " 2   season      17379 non-null  int64  \n",
            " 3   yr          17379 non-null  int64  \n",
            " 4   mnth        17379 non-null  int64  \n",
            " 5   hr          17379 non-null  int64  \n",
            " 6   holiday     17379 non-null  int64  \n",
            " 7   weekday     17379 non-null  int64  \n",
            " 8   workingday  17379 non-null  int64  \n",
            " 9   weathersit  17379 non-null  int64  \n",
            " 10  temp        17379 non-null  float64\n",
            " 11  atemp       17379 non-null  float64\n",
            " 12  hum         17379 non-null  float64\n",
            " 13  windspeed   17379 non-null  float64\n",
            " 14  casual      17379 non-null  int64  \n",
            " 15  registered  17379 non-null  int64  \n",
            " 16  cnt         17379 non-null  int64  \n",
            "dtypes: float64(4), int64(12), object(1)\n",
            "memory usage: 2.3+ MB\n"
          ]
        }
      ]
    },
    {
      "cell_type": "markdown",
      "source": [
        "**Insight:**\n",
        "- Data sudah bersih (tidak perlu imputasi missing values).\n",
        "- Perlu konversi dteday ke tipe datetime untuk analisis waktu."
      ],
      "metadata": {
        "id": "2azsKMvJY83u"
      }
    },
    {
      "cell_type": "markdown",
      "source": [
        "####Statistik Deskriptif\n",
        "\n",
        "Melihat ringkasan statistik untuk memahami distribusi data."
      ],
      "metadata": {
        "id": "TP-tlLlsgouq"
      }
    },
    {
      "cell_type": "code",
      "source": [
        "df.describe()"
      ],
      "metadata": {
        "colab": {
          "base_uri": "https://localhost:8080/",
          "height": 320
        },
        "id": "rdSkdzLhCFsj",
        "outputId": "a3fa51f3-e58b-4145-9c08-88fd628e62f2"
      },
      "execution_count": 217,
      "outputs": [
        {
          "output_type": "execute_result",
          "data": {
            "text/plain": [
              "          instant        season            yr          mnth            hr  \\\n",
              "count  17379.0000  17379.000000  17379.000000  17379.000000  17379.000000   \n",
              "mean    8690.0000      2.501640      0.502561      6.537775     11.546752   \n",
              "std     5017.0295      1.106918      0.500008      3.438776      6.914405   \n",
              "min        1.0000      1.000000      0.000000      1.000000      0.000000   \n",
              "25%     4345.5000      2.000000      0.000000      4.000000      6.000000   \n",
              "50%     8690.0000      3.000000      1.000000      7.000000     12.000000   \n",
              "75%    13034.5000      3.000000      1.000000     10.000000     18.000000   \n",
              "max    17379.0000      4.000000      1.000000     12.000000     23.000000   \n",
              "\n",
              "            holiday       weekday    workingday    weathersit          temp  \\\n",
              "count  17379.000000  17379.000000  17379.000000  17379.000000  17379.000000   \n",
              "mean       0.028770      3.003683      0.682721      1.425283      0.496987   \n",
              "std        0.167165      2.005771      0.465431      0.639357      0.192556   \n",
              "min        0.000000      0.000000      0.000000      1.000000      0.020000   \n",
              "25%        0.000000      1.000000      0.000000      1.000000      0.340000   \n",
              "50%        0.000000      3.000000      1.000000      1.000000      0.500000   \n",
              "75%        0.000000      5.000000      1.000000      2.000000      0.660000   \n",
              "max        1.000000      6.000000      1.000000      4.000000      1.000000   \n",
              "\n",
              "              atemp           hum     windspeed        casual    registered  \\\n",
              "count  17379.000000  17379.000000  17379.000000  17379.000000  17379.000000   \n",
              "mean       0.475775      0.627229      0.190098     35.676218    153.786869   \n",
              "std        0.171850      0.192930      0.122340     49.305030    151.357286   \n",
              "min        0.000000      0.000000      0.000000      0.000000      0.000000   \n",
              "25%        0.333300      0.480000      0.104500      4.000000     34.000000   \n",
              "50%        0.484800      0.630000      0.194000     17.000000    115.000000   \n",
              "75%        0.621200      0.780000      0.253700     48.000000    220.000000   \n",
              "max        1.000000      1.000000      0.850700    367.000000    886.000000   \n",
              "\n",
              "                cnt  \n",
              "count  17379.000000  \n",
              "mean     189.463088  \n",
              "std      181.387599  \n",
              "min        1.000000  \n",
              "25%       40.000000  \n",
              "50%      142.000000  \n",
              "75%      281.000000  \n",
              "max      977.000000  "
            ],
            "text/html": [
              "\n",
              "  <div id=\"df-65de1c36-dc89-41c7-81b2-5582532b12a4\" class=\"colab-df-container\">\n",
              "    <div>\n",
              "<style scoped>\n",
              "    .dataframe tbody tr th:only-of-type {\n",
              "        vertical-align: middle;\n",
              "    }\n",
              "\n",
              "    .dataframe tbody tr th {\n",
              "        vertical-align: top;\n",
              "    }\n",
              "\n",
              "    .dataframe thead th {\n",
              "        text-align: right;\n",
              "    }\n",
              "</style>\n",
              "<table border=\"1\" class=\"dataframe\">\n",
              "  <thead>\n",
              "    <tr style=\"text-align: right;\">\n",
              "      <th></th>\n",
              "      <th>instant</th>\n",
              "      <th>season</th>\n",
              "      <th>yr</th>\n",
              "      <th>mnth</th>\n",
              "      <th>hr</th>\n",
              "      <th>holiday</th>\n",
              "      <th>weekday</th>\n",
              "      <th>workingday</th>\n",
              "      <th>weathersit</th>\n",
              "      <th>temp</th>\n",
              "      <th>atemp</th>\n",
              "      <th>hum</th>\n",
              "      <th>windspeed</th>\n",
              "      <th>casual</th>\n",
              "      <th>registered</th>\n",
              "      <th>cnt</th>\n",
              "    </tr>\n",
              "  </thead>\n",
              "  <tbody>\n",
              "    <tr>\n",
              "      <th>count</th>\n",
              "      <td>17379.0000</td>\n",
              "      <td>17379.000000</td>\n",
              "      <td>17379.000000</td>\n",
              "      <td>17379.000000</td>\n",
              "      <td>17379.000000</td>\n",
              "      <td>17379.000000</td>\n",
              "      <td>17379.000000</td>\n",
              "      <td>17379.000000</td>\n",
              "      <td>17379.000000</td>\n",
              "      <td>17379.000000</td>\n",
              "      <td>17379.000000</td>\n",
              "      <td>17379.000000</td>\n",
              "      <td>17379.000000</td>\n",
              "      <td>17379.000000</td>\n",
              "      <td>17379.000000</td>\n",
              "      <td>17379.000000</td>\n",
              "    </tr>\n",
              "    <tr>\n",
              "      <th>mean</th>\n",
              "      <td>8690.0000</td>\n",
              "      <td>2.501640</td>\n",
              "      <td>0.502561</td>\n",
              "      <td>6.537775</td>\n",
              "      <td>11.546752</td>\n",
              "      <td>0.028770</td>\n",
              "      <td>3.003683</td>\n",
              "      <td>0.682721</td>\n",
              "      <td>1.425283</td>\n",
              "      <td>0.496987</td>\n",
              "      <td>0.475775</td>\n",
              "      <td>0.627229</td>\n",
              "      <td>0.190098</td>\n",
              "      <td>35.676218</td>\n",
              "      <td>153.786869</td>\n",
              "      <td>189.463088</td>\n",
              "    </tr>\n",
              "    <tr>\n",
              "      <th>std</th>\n",
              "      <td>5017.0295</td>\n",
              "      <td>1.106918</td>\n",
              "      <td>0.500008</td>\n",
              "      <td>3.438776</td>\n",
              "      <td>6.914405</td>\n",
              "      <td>0.167165</td>\n",
              "      <td>2.005771</td>\n",
              "      <td>0.465431</td>\n",
              "      <td>0.639357</td>\n",
              "      <td>0.192556</td>\n",
              "      <td>0.171850</td>\n",
              "      <td>0.192930</td>\n",
              "      <td>0.122340</td>\n",
              "      <td>49.305030</td>\n",
              "      <td>151.357286</td>\n",
              "      <td>181.387599</td>\n",
              "    </tr>\n",
              "    <tr>\n",
              "      <th>min</th>\n",
              "      <td>1.0000</td>\n",
              "      <td>1.000000</td>\n",
              "      <td>0.000000</td>\n",
              "      <td>1.000000</td>\n",
              "      <td>0.000000</td>\n",
              "      <td>0.000000</td>\n",
              "      <td>0.000000</td>\n",
              "      <td>0.000000</td>\n",
              "      <td>1.000000</td>\n",
              "      <td>0.020000</td>\n",
              "      <td>0.000000</td>\n",
              "      <td>0.000000</td>\n",
              "      <td>0.000000</td>\n",
              "      <td>0.000000</td>\n",
              "      <td>0.000000</td>\n",
              "      <td>1.000000</td>\n",
              "    </tr>\n",
              "    <tr>\n",
              "      <th>25%</th>\n",
              "      <td>4345.5000</td>\n",
              "      <td>2.000000</td>\n",
              "      <td>0.000000</td>\n",
              "      <td>4.000000</td>\n",
              "      <td>6.000000</td>\n",
              "      <td>0.000000</td>\n",
              "      <td>1.000000</td>\n",
              "      <td>0.000000</td>\n",
              "      <td>1.000000</td>\n",
              "      <td>0.340000</td>\n",
              "      <td>0.333300</td>\n",
              "      <td>0.480000</td>\n",
              "      <td>0.104500</td>\n",
              "      <td>4.000000</td>\n",
              "      <td>34.000000</td>\n",
              "      <td>40.000000</td>\n",
              "    </tr>\n",
              "    <tr>\n",
              "      <th>50%</th>\n",
              "      <td>8690.0000</td>\n",
              "      <td>3.000000</td>\n",
              "      <td>1.000000</td>\n",
              "      <td>7.000000</td>\n",
              "      <td>12.000000</td>\n",
              "      <td>0.000000</td>\n",
              "      <td>3.000000</td>\n",
              "      <td>1.000000</td>\n",
              "      <td>1.000000</td>\n",
              "      <td>0.500000</td>\n",
              "      <td>0.484800</td>\n",
              "      <td>0.630000</td>\n",
              "      <td>0.194000</td>\n",
              "      <td>17.000000</td>\n",
              "      <td>115.000000</td>\n",
              "      <td>142.000000</td>\n",
              "    </tr>\n",
              "    <tr>\n",
              "      <th>75%</th>\n",
              "      <td>13034.5000</td>\n",
              "      <td>3.000000</td>\n",
              "      <td>1.000000</td>\n",
              "      <td>10.000000</td>\n",
              "      <td>18.000000</td>\n",
              "      <td>0.000000</td>\n",
              "      <td>5.000000</td>\n",
              "      <td>1.000000</td>\n",
              "      <td>2.000000</td>\n",
              "      <td>0.660000</td>\n",
              "      <td>0.621200</td>\n",
              "      <td>0.780000</td>\n",
              "      <td>0.253700</td>\n",
              "      <td>48.000000</td>\n",
              "      <td>220.000000</td>\n",
              "      <td>281.000000</td>\n",
              "    </tr>\n",
              "    <tr>\n",
              "      <th>max</th>\n",
              "      <td>17379.0000</td>\n",
              "      <td>4.000000</td>\n",
              "      <td>1.000000</td>\n",
              "      <td>12.000000</td>\n",
              "      <td>23.000000</td>\n",
              "      <td>1.000000</td>\n",
              "      <td>6.000000</td>\n",
              "      <td>1.000000</td>\n",
              "      <td>4.000000</td>\n",
              "      <td>1.000000</td>\n",
              "      <td>1.000000</td>\n",
              "      <td>1.000000</td>\n",
              "      <td>0.850700</td>\n",
              "      <td>367.000000</td>\n",
              "      <td>886.000000</td>\n",
              "      <td>977.000000</td>\n",
              "    </tr>\n",
              "  </tbody>\n",
              "</table>\n",
              "</div>\n",
              "    <div class=\"colab-df-buttons\">\n",
              "\n",
              "  <div class=\"colab-df-container\">\n",
              "    <button class=\"colab-df-convert\" onclick=\"convertToInteractive('df-65de1c36-dc89-41c7-81b2-5582532b12a4')\"\n",
              "            title=\"Convert this dataframe to an interactive table.\"\n",
              "            style=\"display:none;\">\n",
              "\n",
              "  <svg xmlns=\"http://www.w3.org/2000/svg\" height=\"24px\" viewBox=\"0 -960 960 960\">\n",
              "    <path d=\"M120-120v-720h720v720H120Zm60-500h600v-160H180v160Zm220 220h160v-160H400v160Zm0 220h160v-160H400v160ZM180-400h160v-160H180v160Zm440 0h160v-160H620v160ZM180-180h160v-160H180v160Zm440 0h160v-160H620v160Z\"/>\n",
              "  </svg>\n",
              "    </button>\n",
              "\n",
              "  <style>\n",
              "    .colab-df-container {\n",
              "      display:flex;\n",
              "      gap: 12px;\n",
              "    }\n",
              "\n",
              "    .colab-df-convert {\n",
              "      background-color: #E8F0FE;\n",
              "      border: none;\n",
              "      border-radius: 50%;\n",
              "      cursor: pointer;\n",
              "      display: none;\n",
              "      fill: #1967D2;\n",
              "      height: 32px;\n",
              "      padding: 0 0 0 0;\n",
              "      width: 32px;\n",
              "    }\n",
              "\n",
              "    .colab-df-convert:hover {\n",
              "      background-color: #E2EBFA;\n",
              "      box-shadow: 0px 1px 2px rgba(60, 64, 67, 0.3), 0px 1px 3px 1px rgba(60, 64, 67, 0.15);\n",
              "      fill: #174EA6;\n",
              "    }\n",
              "\n",
              "    .colab-df-buttons div {\n",
              "      margin-bottom: 4px;\n",
              "    }\n",
              "\n",
              "    [theme=dark] .colab-df-convert {\n",
              "      background-color: #3B4455;\n",
              "      fill: #D2E3FC;\n",
              "    }\n",
              "\n",
              "    [theme=dark] .colab-df-convert:hover {\n",
              "      background-color: #434B5C;\n",
              "      box-shadow: 0px 1px 3px 1px rgba(0, 0, 0, 0.15);\n",
              "      filter: drop-shadow(0px 1px 2px rgba(0, 0, 0, 0.3));\n",
              "      fill: #FFFFFF;\n",
              "    }\n",
              "  </style>\n",
              "\n",
              "    <script>\n",
              "      const buttonEl =\n",
              "        document.querySelector('#df-65de1c36-dc89-41c7-81b2-5582532b12a4 button.colab-df-convert');\n",
              "      buttonEl.style.display =\n",
              "        google.colab.kernel.accessAllowed ? 'block' : 'none';\n",
              "\n",
              "      async function convertToInteractive(key) {\n",
              "        const element = document.querySelector('#df-65de1c36-dc89-41c7-81b2-5582532b12a4');\n",
              "        const dataTable =\n",
              "          await google.colab.kernel.invokeFunction('convertToInteractive',\n",
              "                                                    [key], {});\n",
              "        if (!dataTable) return;\n",
              "\n",
              "        const docLinkHtml = 'Like what you see? Visit the ' +\n",
              "          '<a target=\"_blank\" href=https://colab.research.google.com/notebooks/data_table.ipynb>data table notebook</a>'\n",
              "          + ' to learn more about interactive tables.';\n",
              "        element.innerHTML = '';\n",
              "        dataTable['output_type'] = 'display_data';\n",
              "        await google.colab.output.renderOutput(dataTable, element);\n",
              "        const docLink = document.createElement('div');\n",
              "        docLink.innerHTML = docLinkHtml;\n",
              "        element.appendChild(docLink);\n",
              "      }\n",
              "    </script>\n",
              "  </div>\n",
              "\n",
              "\n",
              "<div id=\"df-36a9e439-6cbe-4f11-9932-c29cdb4771cd\">\n",
              "  <button class=\"colab-df-quickchart\" onclick=\"quickchart('df-36a9e439-6cbe-4f11-9932-c29cdb4771cd')\"\n",
              "            title=\"Suggest charts\"\n",
              "            style=\"display:none;\">\n",
              "\n",
              "<svg xmlns=\"http://www.w3.org/2000/svg\" height=\"24px\"viewBox=\"0 0 24 24\"\n",
              "     width=\"24px\">\n",
              "    <g>\n",
              "        <path d=\"M19 3H5c-1.1 0-2 .9-2 2v14c0 1.1.9 2 2 2h14c1.1 0 2-.9 2-2V5c0-1.1-.9-2-2-2zM9 17H7v-7h2v7zm4 0h-2V7h2v10zm4 0h-2v-4h2v4z\"/>\n",
              "    </g>\n",
              "</svg>\n",
              "  </button>\n",
              "\n",
              "<style>\n",
              "  .colab-df-quickchart {\n",
              "      --bg-color: #E8F0FE;\n",
              "      --fill-color: #1967D2;\n",
              "      --hover-bg-color: #E2EBFA;\n",
              "      --hover-fill-color: #174EA6;\n",
              "      --disabled-fill-color: #AAA;\n",
              "      --disabled-bg-color: #DDD;\n",
              "  }\n",
              "\n",
              "  [theme=dark] .colab-df-quickchart {\n",
              "      --bg-color: #3B4455;\n",
              "      --fill-color: #D2E3FC;\n",
              "      --hover-bg-color: #434B5C;\n",
              "      --hover-fill-color: #FFFFFF;\n",
              "      --disabled-bg-color: #3B4455;\n",
              "      --disabled-fill-color: #666;\n",
              "  }\n",
              "\n",
              "  .colab-df-quickchart {\n",
              "    background-color: var(--bg-color);\n",
              "    border: none;\n",
              "    border-radius: 50%;\n",
              "    cursor: pointer;\n",
              "    display: none;\n",
              "    fill: var(--fill-color);\n",
              "    height: 32px;\n",
              "    padding: 0;\n",
              "    width: 32px;\n",
              "  }\n",
              "\n",
              "  .colab-df-quickchart:hover {\n",
              "    background-color: var(--hover-bg-color);\n",
              "    box-shadow: 0 1px 2px rgba(60, 64, 67, 0.3), 0 1px 3px 1px rgba(60, 64, 67, 0.15);\n",
              "    fill: var(--button-hover-fill-color);\n",
              "  }\n",
              "\n",
              "  .colab-df-quickchart-complete:disabled,\n",
              "  .colab-df-quickchart-complete:disabled:hover {\n",
              "    background-color: var(--disabled-bg-color);\n",
              "    fill: var(--disabled-fill-color);\n",
              "    box-shadow: none;\n",
              "  }\n",
              "\n",
              "  .colab-df-spinner {\n",
              "    border: 2px solid var(--fill-color);\n",
              "    border-color: transparent;\n",
              "    border-bottom-color: var(--fill-color);\n",
              "    animation:\n",
              "      spin 1s steps(1) infinite;\n",
              "  }\n",
              "\n",
              "  @keyframes spin {\n",
              "    0% {\n",
              "      border-color: transparent;\n",
              "      border-bottom-color: var(--fill-color);\n",
              "      border-left-color: var(--fill-color);\n",
              "    }\n",
              "    20% {\n",
              "      border-color: transparent;\n",
              "      border-left-color: var(--fill-color);\n",
              "      border-top-color: var(--fill-color);\n",
              "    }\n",
              "    30% {\n",
              "      border-color: transparent;\n",
              "      border-left-color: var(--fill-color);\n",
              "      border-top-color: var(--fill-color);\n",
              "      border-right-color: var(--fill-color);\n",
              "    }\n",
              "    40% {\n",
              "      border-color: transparent;\n",
              "      border-right-color: var(--fill-color);\n",
              "      border-top-color: var(--fill-color);\n",
              "    }\n",
              "    60% {\n",
              "      border-color: transparent;\n",
              "      border-right-color: var(--fill-color);\n",
              "    }\n",
              "    80% {\n",
              "      border-color: transparent;\n",
              "      border-right-color: var(--fill-color);\n",
              "      border-bottom-color: var(--fill-color);\n",
              "    }\n",
              "    90% {\n",
              "      border-color: transparent;\n",
              "      border-bottom-color: var(--fill-color);\n",
              "    }\n",
              "  }\n",
              "</style>\n",
              "\n",
              "  <script>\n",
              "    async function quickchart(key) {\n",
              "      const quickchartButtonEl =\n",
              "        document.querySelector('#' + key + ' button');\n",
              "      quickchartButtonEl.disabled = true;  // To prevent multiple clicks.\n",
              "      quickchartButtonEl.classList.add('colab-df-spinner');\n",
              "      try {\n",
              "        const charts = await google.colab.kernel.invokeFunction(\n",
              "            'suggestCharts', [key], {});\n",
              "      } catch (error) {\n",
              "        console.error('Error during call to suggestCharts:', error);\n",
              "      }\n",
              "      quickchartButtonEl.classList.remove('colab-df-spinner');\n",
              "      quickchartButtonEl.classList.add('colab-df-quickchart-complete');\n",
              "    }\n",
              "    (() => {\n",
              "      let quickchartButtonEl =\n",
              "        document.querySelector('#df-36a9e439-6cbe-4f11-9932-c29cdb4771cd button');\n",
              "      quickchartButtonEl.style.display =\n",
              "        google.colab.kernel.accessAllowed ? 'block' : 'none';\n",
              "    })();\n",
              "  </script>\n",
              "</div>\n",
              "\n",
              "    </div>\n",
              "  </div>\n"
            ],
            "application/vnd.google.colaboratory.intrinsic+json": {
              "type": "dataframe",
              "summary": "{\n  \"name\": \"df\",\n  \"rows\": 8,\n  \"fields\": [\n    {\n      \"column\": \"instant\",\n      \"properties\": {\n        \"dtype\": \"number\",\n        \"std\": 6263.17088569678,\n        \"min\": 1.0,\n        \"max\": 17379.0,\n        \"num_unique_values\": 6,\n        \"samples\": [\n          17379.0,\n          8690.0,\n          13034.5\n        ],\n        \"semantic_type\": \"\",\n        \"description\": \"\"\n      }\n    },\n    {\n      \"column\": \"season\",\n      \"properties\": {\n        \"dtype\": \"number\",\n        \"std\": 6143.565598544762,\n        \"min\": 1.0,\n        \"max\": 17379.0,\n        \"num_unique_values\": 7,\n        \"samples\": [\n          17379.0,\n          2.5016399102364923,\n          3.0\n        ],\n        \"semantic_type\": \"\",\n        \"description\": \"\"\n      }\n    },\n    {\n      \"column\": \"yr\",\n      \"properties\": {\n        \"dtype\": \"number\",\n        \"std\": 6144.202229000585,\n        \"min\": 0.0,\n        \"max\": 17379.0,\n        \"num_unique_values\": 5,\n        \"samples\": [\n          0.5025605615973301,\n          1.0,\n          0.5000078290910674\n        ],\n        \"semantic_type\": \"\",\n        \"description\": \"\"\n      }\n    },\n    {\n      \"column\": \"mnth\",\n      \"properties\": {\n        \"dtype\": \"number\",\n        \"std\": 6142.184250617928,\n        \"min\": 1.0,\n        \"max\": 17379.0,\n        \"num_unique_values\": 8,\n        \"samples\": [\n          6.537775476149376,\n          7.0,\n          17379.0\n        ],\n        \"semantic_type\": \"\",\n        \"description\": \"\"\n      }\n    },\n    {\n      \"column\": \"hr\",\n      \"properties\": {\n        \"dtype\": \"number\",\n        \"std\": 6140.496148184536,\n        \"min\": 0.0,\n        \"max\": 17379.0,\n        \"num_unique_values\": 8,\n        \"samples\": [\n          11.546751826917545,\n          12.0,\n          17379.0\n        ],\n        \"semantic_type\": \"\",\n        \"description\": \"\"\n      }\n    },\n    {\n      \"column\": \"holiday\",\n      \"properties\": {\n        \"dtype\": \"number\",\n        \"std\": 6144.34398083374,\n        \"min\": 0.0,\n        \"max\": 17379.0,\n        \"num_unique_values\": 5,\n        \"samples\": [\n          0.028770355026181024,\n          1.0,\n          0.16716527638435244\n        ],\n        \"semantic_type\": \"\",\n        \"description\": \"\"\n      }\n    },\n    {\n      \"column\": \"weekday\",\n      \"properties\": {\n        \"dtype\": \"number\",\n        \"std\": 6143.394057236404,\n        \"min\": 0.0,\n        \"max\": 17379.0,\n        \"num_unique_values\": 8,\n        \"samples\": [\n          3.003682605443351,\n          3.0,\n          17379.0\n        ],\n        \"semantic_type\": \"\",\n        \"description\": \"\"\n      }\n    },\n    {\n      \"column\": \"workingday\",\n      \"properties\": {\n        \"dtype\": \"number\",\n        \"std\": 6144.194876084176,\n        \"min\": 0.0,\n        \"max\": 17379.0,\n        \"num_unique_values\": 5,\n        \"samples\": [\n          0.6827205247712756,\n          1.0,\n          0.46543063352387354\n        ],\n        \"semantic_type\": \"\",\n        \"description\": \"\"\n      }\n    },\n    {\n      \"column\": \"weathersit\",\n      \"properties\": {\n        \"dtype\": \"number\",\n        \"std\": 6143.845618830189,\n        \"min\": 0.6393568777543036,\n        \"max\": 17379.0,\n        \"num_unique_values\": 6,\n        \"samples\": [\n          17379.0,\n          1.425283387997008,\n          4.0\n        ],\n        \"semantic_type\": \"\",\n        \"description\": \"\"\n      }\n    },\n    {\n      \"column\": \"temp\",\n      \"properties\": {\n        \"dtype\": \"number\",\n        \"std\": 6144.242275843299,\n        \"min\": 0.02,\n        \"max\": 17379.0,\n        \"num_unique_values\": 8,\n        \"samples\": [\n          0.4969871684216583,\n          0.5,\n          17379.0\n        ],\n        \"semantic_type\": \"\",\n        \"description\": \"\"\n      }\n    },\n    {\n      \"column\": \"atemp\",\n      \"properties\": {\n        \"dtype\": \"number\",\n        \"std\": 6144.248469131704,\n        \"min\": 0.0,\n        \"max\": 17379.0,\n        \"num_unique_values\": 8,\n        \"samples\": [\n          0.4757751021347604,\n          0.4848,\n          17379.0\n        ],\n        \"semantic_type\": \"\",\n        \"description\": \"\"\n      }\n    },\n    {\n      \"column\": \"hum\",\n      \"properties\": {\n        \"dtype\": \"number\",\n        \"std\": 6144.216991945488,\n        \"min\": 0.0,\n        \"max\": 17379.0,\n        \"num_unique_values\": 8,\n        \"samples\": [\n          0.6272288394038783,\n          0.63,\n          17379.0\n        ],\n        \"semantic_type\": \"\",\n        \"description\": \"\"\n      }\n    },\n    {\n      \"column\": \"windspeed\",\n      \"properties\": {\n        \"dtype\": \"number\",\n        \"std\": 6144.317742909861,\n        \"min\": 0.0,\n        \"max\": 17379.0,\n        \"num_unique_values\": 8,\n        \"samples\": [\n          0.1900976063064618,\n          0.194,\n          17379.0\n        ],\n        \"semantic_type\": \"\",\n        \"description\": \"\"\n      }\n    },\n    {\n      \"column\": \"casual\",\n      \"properties\": {\n        \"dtype\": \"number\",\n        \"std\": 6119.284233238239,\n        \"min\": 0.0,\n        \"max\": 17379.0,\n        \"num_unique_values\": 8,\n        \"samples\": [\n          35.67621842453536,\n          17.0,\n          17379.0\n        ],\n        \"semantic_type\": \"\",\n        \"description\": \"\"\n      }\n    },\n    {\n      \"column\": \"registered\",\n      \"properties\": {\n        \"dtype\": \"number\",\n        \"std\": 6072.038722856437,\n        \"min\": 0.0,\n        \"max\": 17379.0,\n        \"num_unique_values\": 8,\n        \"samples\": [\n          153.78686920996606,\n          115.0,\n          17379.0\n        ],\n        \"semantic_type\": \"\",\n        \"description\": \"\"\n      }\n    },\n    {\n      \"column\": \"cnt\",\n      \"properties\": {\n        \"dtype\": \"number\",\n        \"std\": 6060.617601280442,\n        \"min\": 1.0,\n        \"max\": 17379.0,\n        \"num_unique_values\": 8,\n        \"samples\": [\n          189.46308763450142,\n          142.0,\n          17379.0\n        ],\n        \"semantic_type\": \"\",\n        \"description\": \"\"\n      }\n    }\n  ]\n}"
            }
          },
          "metadata": {},
          "execution_count": 217
        }
      ]
    },
    {
      "cell_type": "markdown",
      "source": [
        "**Insight:**\n",
        "- Suhu dan kecepatan angin perlu dicek skalanya (apakah sudah diubah atau masih dalam satuan asli).\n",
        "- Perlu mengecek apakah windspeed = 0 disebabkan karena pencatatan yang tidak akurat."
      ],
      "metadata": {
        "id": "7dtxhAPrkhPL"
      }
    },
    {
      "cell_type": "markdown",
      "source": [
        "####Mengecek Missing Value dan Duplikasi\n",
        "\n",
        "Memeriksa apakah ada data yang hilang atau duplikasi dalam dataset."
      ],
      "metadata": {
        "id": "mOHXcPHFgwMi"
      }
    },
    {
      "cell_type": "code",
      "source": [
        "missing_values_count = df.isnull().sum().sum()\n",
        "duplicated_rows_count = df.duplicated().sum()\n",
        "\n",
        "print(f\"Missing Value: {missing_values_count}\")\n",
        "print(f\"Duplicate: {duplicated_rows_count}\")"
      ],
      "metadata": {
        "colab": {
          "base_uri": "https://localhost:8080/"
        },
        "id": "0ztCff4vaFiq",
        "outputId": "7d734b36-f19b-4991-af5e-bbf9cf735954"
      },
      "execution_count": 219,
      "outputs": [
        {
          "output_type": "stream",
          "name": "stdout",
          "text": [
            "Missing Value: 0\n",
            "Duplicate: 0\n"
          ]
        }
      ]
    },
    {
      "cell_type": "markdown",
      "source": [
        "**Insight:**\n",
        "- Dataset tidak perlu pembersihan lebih lanjut dari sisi missing values dan duplikasi.\n",
        "\n"
      ],
      "metadata": {
        "id": "KTEgQqrUavFN"
      }
    },
    {
      "cell_type": "markdown",
      "source": [
        "####Jumlah Nilai Unik per Kolom  \n",
        "- Untuk memahami variasi data dalam dataset, kita menghitung jumlah nilai unik di setiap kolom. Hal ini membantu dalam mengidentifikasi apakah suatu kolom bersifat kategorikal atau numerik kontinu."
      ],
      "metadata": {
        "id": "amrOT7vug3FY"
      }
    },
    {
      "cell_type": "code",
      "source": [
        "unique_counts = pd.DataFrame({'Kolom': df.columns,\n",
        "                              'Jumlah_Nilai_Unik': [df[col].nunique() for col in df.columns]})\n",
        "print(unique_counts)"
      ],
      "metadata": {
        "colab": {
          "base_uri": "https://localhost:8080/"
        },
        "id": "LZkEho2bxK5F",
        "outputId": "0177d4f0-8081-4f13-ba99-ab0f9deb7952"
      },
      "execution_count": 220,
      "outputs": [
        {
          "output_type": "stream",
          "name": "stdout",
          "text": [
            "         Kolom  Jumlah_Nilai_Unik\n",
            "0      instant              17379\n",
            "1       dteday                731\n",
            "2       season                  4\n",
            "3           yr                  2\n",
            "4         mnth                 12\n",
            "5           hr                 24\n",
            "6      holiday                  2\n",
            "7      weekday                  7\n",
            "8   workingday                  2\n",
            "9   weathersit                  4\n",
            "10        temp                 50\n",
            "11       atemp                 65\n",
            "12         hum                 89\n",
            "13   windspeed                 30\n",
            "14      casual                322\n",
            "15  registered                776\n",
            "16         cnt                869\n"
          ]
        }
      ]
    },
    {
      "cell_type": "markdown",
      "source": [
        "**Insight:**\n",
        "- Bisa dilakukan grouping berdasarkan waktu (hari, jam, musim) untuk melihat pola penyewaan.\n",
        "- Perbedaan jumlah penyewaan antara pengguna kasual vs terdaftar bisa menjadi faktor analisis."
      ],
      "metadata": {
        "id": "G2VKgxhCZF40"
      }
    },
    {
      "cell_type": "markdown",
      "metadata": {
        "id": "EhN5R4hr8DC1"
      },
      "source": [
        "### Cleaning Data"
      ]
    },
    {
      "cell_type": "markdown",
      "source": [
        "####Mengganti Nama Kolom"
      ],
      "metadata": {
        "id": "sdwiIflElbOE"
      }
    },
    {
      "cell_type": "code",
      "source": [
        "expected_columns = [\n",
        "    'instant', 'dteday', 'season', 'yr', 'mnth', 'hr', 'holiday',\n",
        "    'weekday', 'workingday', 'weathersit', 'temp', 'atemp', 'hum',\n",
        "    'windspeed', 'casual', 'registered', 'cnt'\n",
        "]\n",
        "\n",
        "missing_columns = [col for col in expected_columns if col not in df.columns]\n",
        "if missing_columns:\n",
        "    print(f\"Kolom berikut tidak ditemukan dalam dataset: {missing_columns}\")\n",
        "else:\n",
        "\n",
        "    df.rename(columns={\n",
        "        'instant': 'Indeks',\n",
        "        'dteday': 'Tanggal',\n",
        "        'season': 'Musim',\n",
        "        'yr': 'Tahun',\n",
        "        'mnth': 'Bulan',\n",
        "        'hr': 'Jam',\n",
        "        'holiday': 'Hari_Libur',\n",
        "        'weekday': 'Hari',\n",
        "        'workingday': 'Hari_Kerja',\n",
        "        'weathersit': 'Cuaca',\n",
        "        'temp': 'Temperatur',\n",
        "        'atemp': 'Temperatur_Terasa',\n",
        "        'hum': 'Kelembapan',\n",
        "        'windspeed': 'Kecepatan_Angin',\n",
        "        'casual': 'Pengguna_Kasual',\n",
        "        'registered': 'Pengguna_Terdaftar',\n",
        "        'cnt': 'Jumlah_Sewa'\n",
        "    }, inplace=True)\n",
        "\n",
        "    print(\"Kolom setelah diubah:\", df.columns)\n"
      ],
      "metadata": {
        "id": "ax-3tEjc9Cj1",
        "colab": {
          "base_uri": "https://localhost:8080/"
        },
        "outputId": "7609338e-f10d-4148-a3bc-9a6cc2b57ff4"
      },
      "execution_count": 221,
      "outputs": [
        {
          "output_type": "stream",
          "name": "stdout",
          "text": [
            "Kolom setelah diubah: Index(['Indeks', 'Tanggal', 'Musim', 'Tahun', 'Bulan', 'Jam', 'Hari_Libur',\n",
            "       'Hari', 'Hari_Kerja', 'Cuaca', 'Temperatur', 'Temperatur_Terasa',\n",
            "       'Kelembapan', 'Kecepatan_Angin', 'Pengguna_Kasual',\n",
            "       'Pengguna_Terdaftar', 'Jumlah_Sewa'],\n",
            "      dtype='object')\n"
          ]
        }
      ]
    },
    {
      "cell_type": "markdown",
      "source": [
        "**Insight :**  \n",
        "- Nama kolom telah diperjelas agar lebih mudah dibaca dan dipahami saat analisis.\n",
        "- Tidak ada perubahan tipe data, hanya perubahan nama untuk kejelasan interpretasi."
      ],
      "metadata": {
        "id": "D7YTOD08lejm"
      }
    },
    {
      "cell_type": "markdown",
      "source": [
        "####Mengonversi Tanggal ke Format Datetime dan Mengatur Tipe Data Kategorikal"
      ],
      "metadata": {
        "id": "mZKl9XCblq3U"
      }
    },
    {
      "cell_type": "code",
      "source": [
        "df['Tanggal'] = pd.to_datetime(df['Tanggal'])\n",
        "\n",
        "categorical_cols = ['Musim', 'Tahun', 'Bulan', 'Jam', 'Hari_Libur', 'Hari', 'Hari_Kerja', 'Cuaca']\n",
        "for col in categorical_cols:\n",
        "    df[col] = df[col].astype('category')\n",
        "\n",
        "df.info()"
      ],
      "metadata": {
        "colab": {
          "base_uri": "https://localhost:8080/"
        },
        "id": "VdB6dda_-pxe",
        "outputId": "c427cd13-1628-4a34-f30f-5bea731bdc20"
      },
      "execution_count": 222,
      "outputs": [
        {
          "output_type": "stream",
          "name": "stdout",
          "text": [
            "<class 'pandas.core.frame.DataFrame'>\n",
            "RangeIndex: 17379 entries, 0 to 17378\n",
            "Data columns (total 17 columns):\n",
            " #   Column              Non-Null Count  Dtype         \n",
            "---  ------              --------------  -----         \n",
            " 0   Indeks              17379 non-null  int64         \n",
            " 1   Tanggal             17379 non-null  datetime64[ns]\n",
            " 2   Musim               17379 non-null  category      \n",
            " 3   Tahun               17379 non-null  category      \n",
            " 4   Bulan               17379 non-null  category      \n",
            " 5   Jam                 17379 non-null  category      \n",
            " 6   Hari_Libur          17379 non-null  category      \n",
            " 7   Hari                17379 non-null  category      \n",
            " 8   Hari_Kerja          17379 non-null  category      \n",
            " 9   Cuaca               17379 non-null  category      \n",
            " 10  Temperatur          17379 non-null  float64       \n",
            " 11  Temperatur_Terasa   17379 non-null  float64       \n",
            " 12  Kelembapan          17379 non-null  float64       \n",
            " 13  Kecepatan_Angin     17379 non-null  float64       \n",
            " 14  Pengguna_Kasual     17379 non-null  int64         \n",
            " 15  Pengguna_Terdaftar  17379 non-null  int64         \n",
            " 16  Jumlah_Sewa         17379 non-null  int64         \n",
            "dtypes: category(8), datetime64[ns](1), float64(4), int64(4)\n",
            "memory usage: 1.3 MB\n"
          ]
        }
      ]
    },
    {
      "cell_type": "markdown",
      "source": [
        "**Insight :**\n",
        "- Tanggal telah dikonversi ke tipe datetime64 untuk memungkinkan analisis berbasis waktu.\n",
        "- Kolom kategorikal seperti Musim, Tahun, dan Cuaca dikonversi ke tipe category agar lebih efisien dalam memori dan memudahkan analisis."
      ],
      "metadata": {
        "id": "pGalpED8ltY3"
      }
    },
    {
      "cell_type": "code",
      "source": [
        "windspeed_zeros = (df['Kecepatan_Angin'] == 0).sum()\n",
        "print(f\"Jumlah data dengan windspeed = 0: {windspeed_zeros}\")\n"
      ],
      "metadata": {
        "colab": {
          "base_uri": "https://localhost:8080/"
        },
        "id": "WPbITTyTkeVK",
        "outputId": "9a6aa080-6007-4e32-bbf4-4535e8868310"
      },
      "execution_count": 224,
      "outputs": [
        {
          "output_type": "stream",
          "name": "stdout",
          "text": [
            "Jumlah data dengan windspeed = 0: 2180\n"
          ]
        }
      ]
    },
    {
      "cell_type": "code",
      "source": [
        "df['Temperatur_C'] = df['Temperatur'] * 50"
      ],
      "metadata": {
        "id": "QwD43m-AksoG"
      },
      "execution_count": 225,
      "outputs": []
    },
    {
      "cell_type": "markdown",
      "source": [
        "**Insight:**\n",
        "- Temperatur awalnya dinormalisasi dalam skala 0-1.\n",
        "- Kini telah dikonversi ke satuan Celsius agar lebih mudah diinterpretasi dalam analisis."
      ],
      "metadata": {
        "id": "Q_5ejIqckiSP"
      }
    },
    {
      "cell_type": "markdown",
      "metadata": {
        "id": "gp-Y6wU38DC1"
      },
      "source": [
        "## Exploratory Data Analysis (EDA)"
      ]
    },
    {
      "cell_type": "markdown",
      "metadata": {
        "id": "MW7WF2kr8DC1"
      },
      "source": [
        "### Explore ..."
      ]
    },
    {
      "cell_type": "markdown",
      "source": [
        "####Analisis Tren Jumlah Sewa Berdasarkan Jam"
      ],
      "metadata": {
        "id": "i6MMrv7asSeP"
      }
    },
    {
      "cell_type": "code",
      "source": [
        "df_Jam = df.groupby(\"Jam\")[\"Jumlah_Sewa\"].mean().reset_index()\n",
        "\n",
        "print(df_Jam.sort_values(by=\"Jumlah_Sewa\", ascending=False).head(5))\n",
        "print(df_Jam.sort_values(by=\"Jumlah_Sewa\", ascending=True).head(5))\n"
      ],
      "metadata": {
        "colab": {
          "base_uri": "https://localhost:8080/"
        },
        "id": "bkWBKMR8HKpe",
        "outputId": "10df9c56-be8e-4384-ad84-0c58a67db0d8"
      },
      "execution_count": 239,
      "outputs": [
        {
          "output_type": "stream",
          "name": "stdout",
          "text": [
            "   Jam  Jumlah_Sewa\n",
            "17  17   461.452055\n",
            "18  18   425.510989\n",
            "8    8   359.011004\n",
            "16  16   311.983562\n",
            "19  19   311.523352\n",
            "  Jam  Jumlah_Sewa\n",
            "4   4     6.352941\n",
            "3   3    11.727403\n",
            "5   5    19.889819\n",
            "2   2    22.869930\n",
            "1   1    33.375691\n"
          ]
        },
        {
          "output_type": "stream",
          "name": "stderr",
          "text": [
            "<ipython-input-239-16736d2617f7>:1: FutureWarning: The default of observed=False is deprecated and will be changed to True in a future version of pandas. Pass observed=False to retain current behavior or observed=True to adopt the future default and silence this warning.\n",
            "  df_Jam = df.groupby(\"Jam\")[\"Jumlah_Sewa\"].mean().reset_index()\n"
          ]
        }
      ]
    },
    {
      "cell_type": "markdown",
      "source": [
        "**Insight:**\n",
        "\n",
        "- Jam sibuk terjadi pada pukul 17:00 dan 18:00, kemungkinan karena waktu pulang kerja.\n",
        "- Jam sepi terjadi antara pukul 01:00 - 05:00, kemungkinan karena tengah malam hingga subuh."
      ],
      "metadata": {
        "id": "upNZOUslsdFx"
      }
    },
    {
      "cell_type": "markdown",
      "source": [
        "####Analisis Jumlah Sewa Berdasarkan Musim"
      ],
      "metadata": {
        "id": "9oEkOvmCsV88"
      }
    },
    {
      "cell_type": "code",
      "source": [
        "musim_dict = {1: 'Semi', 2: 'Panas', 3: 'Gugur', 4: 'Dingin'}\n",
        "\n",
        "seasonal_rentals = df.groupby('Musim', as_index=False)['Jumlah_Sewa'].mean()\n",
        "seasonal_rentals['Musim'] = seasonal_rentals['Musim'].map(musim_dict)\n",
        "\n",
        "seasonal_rentals = seasonal_rentals.sort_values(by=\"Jumlah_Sewa\", ascending=False)\n",
        "print(seasonal_rentals)"
      ],
      "metadata": {
        "colab": {
          "base_uri": "https://localhost:8080/"
        },
        "id": "Qt8g9YCnSHLU",
        "outputId": "aa52184b-5119-4f2a-c5b2-86398d953609"
      },
      "execution_count": 244,
      "outputs": [
        {
          "output_type": "stream",
          "name": "stdout",
          "text": [
            "    Musim  Jumlah_Sewa\n",
            "2   Gugur   236.016237\n",
            "1   Panas   208.344069\n",
            "3  Dingin   198.868856\n",
            "0    Semi   111.114569\n"
          ]
        },
        {
          "output_type": "stream",
          "name": "stderr",
          "text": [
            "<ipython-input-244-634a23c9c34d>:4: FutureWarning: The default of observed=False is deprecated and will be changed to True in a future version of pandas. Pass observed=False to retain current behavior or observed=True to adopt the future default and silence this warning.\n",
            "  seasonal_rentals = df.groupby('Musim', as_index=False)['Jumlah_Sewa'].mean()\n"
          ]
        }
      ]
    },
    {
      "cell_type": "markdown",
      "source": [
        "**Insight:**\n",
        "- Musim Gugur memiliki jumlah sewa tertinggi, mungkin karena cuaca yang nyaman untuk bersepeda.\n",
        "- Musim Semi memiliki jumlah sewa terendah, kemungkinan karena cuaca yang masih kurang nyaman atau sering hujan."
      ],
      "metadata": {
        "id": "th_Lzl2Fkj9O"
      }
    },
    {
      "cell_type": "markdown",
      "metadata": {
        "id": "zsyZjqak8DC2"
      },
      "source": [
        "## Visualization & Explanatory Analysis"
      ]
    },
    {
      "cell_type": "markdown",
      "metadata": {
        "id": "HZxOiQ6n8DC2"
      },
      "source": [
        "### Pertanyaan 1: Bagaimana Pola Penyewaan Sepeda Berdasarkan Jam?"
      ]
    },
    {
      "cell_type": "code",
      "source": [
        "plt.figure(figsize=(10,5))\n",
        "sns.lineplot(x=df_Jam[\"Jam\"], y=df_Jam[\"Jumlah_Sewa\"], marker=\"o\", color=\"b\")\n",
        "plt.xlabel(\"Jam dalam Sehari\")\n",
        "plt.ylabel(\"Rata-rata Penyewaan Sepeda\")\n",
        "plt.title(\"Jumlah Penyewaan Sepeda Berdasarkan Jam\")\n",
        "plt.xticks(range(0, 24))\n",
        "plt.grid()\n",
        "plt.show()"
      ],
      "metadata": {
        "colab": {
          "base_uri": "https://localhost:8080/",
          "height": 487
        },
        "id": "Yp2Nk8sH-oUB",
        "outputId": "1f4aa760-02e0-408a-a9b3-bed85e9c291d"
      },
      "execution_count": 241,
      "outputs": [
        {
          "output_type": "display_data",
          "data": {
            "text/plain": [
              "<Figure size 1000x500 with 1 Axes>"
            ],
            "image/png": "[encoded data removed]"
          },
          "metadata": {}
        }
      ]
    },
    {
      "cell_type": "markdown",
      "source": [
        "**Insight :**\n",
        "-  Pola penyewaan sepeda membentuk dua puncak utama, yaitu pagi (sekitar jam 08:00) dan sore (sekitar jam 17:00 - 18:00).\n",
        "-  Lonjakan pagi kemungkinan disebabkan oleh orang yang berangkat kerja atau sekolah.\n",
        "-  Lonjakan sore terjadi saat jam pulang kerja, yang menunjukkan banyaknya pengguna sepeda untuk perjalanan pulang.\n",
        "-  Aktivitas penyewaan sepeda rendah di tengah malam hingga subuh, yang wajar karena jam istirahat."
      ],
      "metadata": {
        "id": "S3hARo_NtayM"
      }
    },
    {
      "cell_type": "markdown",
      "metadata": {
        "id": "DgHI7CiU8DC2"
      },
      "source": [
        "### Pertanyaan 2 : Bagaimana Pengaruh Musim terhadap Jumlah Penyewaan Sepeda?"
      ]
    },
    {
      "cell_type": "code",
      "source": [
        "plt.figure(figsize=(8, 5))\n",
        "sns.barplot(x=seasonal_rentals[\"Musim\"], y=seasonal_rentals[\"Jumlah_Sewa\"], palette=\"viridis\")\n",
        "plt.xlabel(\"Musim\")\n",
        "plt.ylabel(\"Rata-rata Jumlah Penyewaan Sepeda\")\n",
        "plt.title(\"Pengaruh Musim terhadap Jumlah Penyewaan Sepeda\")\n",
        "plt.grid(axis=\"y\", linestyle=\"--\", alpha=0.7)\n",
        "plt.show()"
      ],
      "metadata": {
        "colab": {
          "base_uri": "https://localhost:8080/",
          "height": 578
        },
        "id": "0nB4ymHyF5ns",
        "outputId": "2d1d8745-27f6-4a85-c633-4fe9991d4ede"
      },
      "execution_count": 245,
      "outputs": [
        {
          "output_type": "stream",
          "name": "stderr",
          "text": [
            "<ipython-input-245-6996dbf9fd4e>:2: FutureWarning: \n",
            "\n",
            "Passing `palette` without assigning `hue` is deprecated and will be removed in v0.14.0. Assign the `x` variable to `hue` and set `legend=False` for the same effect.\n",
            "\n",
            "  sns.barplot(x=seasonal_rentals[\"Musim\"], y=seasonal_rentals[\"Jumlah_Sewa\"], palette=\"viridis\")\n"
          ]
        },
        {
          "output_type": "display_data",
          "data": {
            "text/plain": [
              "<Figure size 800x500 with 1 Axes>"
            ],
            "image/png": "[encoded data removed]"
          },
          "metadata": {}
        }
      ]
    },
    {
      "cell_type": "markdown",
      "source": [
        "**Insight:**\n",
        "- Musim gugur memiliki penyewaan tertinggi, kemungkinan karena cuaca yang stabil dan nyaman untuk bersepeda.\n",
        "- Musim panas juga menunjukkan jumlah sewa yang tinggi, meskipun mungkin lebih panas, tetapi tetap populer untuk aktivitas luar ruangan.\n",
        "- Musim dingin dan musim semi memiliki lebih sedikit penyewaan, kemungkinan karena suhu dingin atau kondisi cuaca yang kurang mendukung seperti hujan atau salju.\n",
        "- Faktor lain seperti hujan dan angin mungkin juga berpengaruh terhadap pola penyewaan sepeda selama musim tertentu.\n",
        "\n"
      ],
      "metadata": {
        "id": "_0-36BDLklRg"
      }
    },
    {
      "cell_type": "markdown",
      "source": [
        "## Analisis Lanjutan (Opsional)"
      ],
      "metadata": {
        "id": "9y4VUsmcYNZ5"
      }
    },
    {
      "cell_type": "markdown",
      "metadata": {
        "id": "_WeHlCeX8DC2"
      },
      "source": [
        "## Conclusion"
      ]
    },
    {
      "cell_type": "markdown",
      "metadata": {
        "id": "ZTcyR48Y8DC2"
      },
      "source": [
        "- **Conclution pertanyaan 1 :**\n",
        "\n",
        " Berdasarkan analisis clustering waktu, penyewaan sepeda mencapai puncak pada jam sibuk pagi (06:00–10:00) dan sore (16:00–21:00). Hal ini kemungkinan disebabkan oleh kegiatan bekerja atau sekolah yang meningkatkan permintaan di jam-jam tersebut. Sebaliknya, penyewaan sepeda paling rendah terjadi pada malam hari (22:00–05:00) karena mayoritas orang telah pulang dan aktivitas menurun, sehingga kondisi malam kurang ideal untuk bersepeda.\n",
        "\n",
        " **Rekomendasi Bisnis :**\n",
        "  1. **Tingkatkan Ketersediaan Sepeda:** Tambahkan unit sepeda pada periode pagi dan sore agar mampu memenuhi permintaan yang tinggi.\n",
        "  2. **Promo Malam Hari:** Berikan diskon atau penawaran khusus pada periode sepi malam untuk menarik minat penyewa.\n",
        "\n",
        "---\n",
        "\n",
        "- Conclution pertanyaan 2 :\n",
        "\n",
        "  Analisis menunjukkan bahwa musim panas merupakan periode dengan jumlah penyewaan tertinggi dibandingkan musim lainnya. Hal ini dikarenakan cuaca yang lebih bersahabat, hari yang lebih panjang, serta meningkatnya aktivitas luar ruangan. Di sisi lain, musim dingin mencatat penurunan signifikan dalam penyewaan sepeda karena suhu yang rendah, risiko jalanan licin, dan kecenderungan masyarakat untuk memilih alternatif transportasi lain.\n",
        "  \n",
        "  **Rekomendasi Bisnis:**\n",
        "  1. **Strategi Musiman:** Maksimalkan promosi dan kampanye pemasaran saat musim panas untuk memanfaatkan lonjakan permintaan.\n",
        "  2. **Layanan Tambahan di Musim Dingin:** Sediakan fasilitas pendukung, misalnya diskon untuk peminjaman jaket atau penawaran rute alternatif yang lebih aman dan nyaman.\n",
        "  3. **Optimasi Stok:** Kurangi jumlah sepeda pada musim dingin dan tingkatkan saat musim panas untuk mencapai efisiensi operasional.\n",
        "\n",
        "---\n",
        "\n",
        "**Kesimpulan Utama**\n",
        "- **Pengaruh Waktu dan Musim:** Pola penyewaan sepeda sangat bergantung pada waktu (jam sibuk) dan musim.\n",
        "- **Puncak Permintaan:** Jam sibuk di pagi dan sore, serta musim panas, merupakan periode dengan permintaan penyewaan tertinggi.\n",
        "- **Penurunan Aktivitas:** Malam hari dan musim dingin menunjukkan penurunan signifikan, sehingga strategi bisnis perlu disesuaikan.\n",
        "- **Rekomendasi Strategis:** Dengan memahami tren ini, perusahaan dapat mengoptimalkan jumlah sepeda, merancang promosi yang tepat, dan meningkatkan efisiensi layanan guna mendongkrak keuntungan.\n",
        "\n"
      ]
    }
  ],
  "metadata": {
    "kernelspec": {
      "display_name": "Python 3",
      "language": "python",
      "name": "python3"
    },
    "language_info": {
      "name": "python",
      "version": "3.8.0 (tags/v3.8.0:fa919fd, Oct 14 2019, 19:21:23) [MSC v.1916 32 bit (Intel)]"
    },
    "orig_nbformat": 4,
    "vscode": {
      "interpreter": {
        "hash": "972b3bf27e332e87b5379f2791f6ef9dfc79c71018c370b0d7423235e20fe4d7"
      }
    },
    "colab": {
      "provenance": [],
      "collapsed_sections": [
        "eE0raob58DC0",
        "sXU2GBYu8DC1"
      ]
    }
  },
  "nbformat": 4,
  "nbformat_minor": 0
}